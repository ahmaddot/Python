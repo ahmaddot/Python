{
 "cells": [
  {
   "cell_type": "code",
   "execution_count": 5,
   "metadata": {},
   "outputs": [
    {
     "name": "stdout",
     "output_type": "stream",
     "text": [
      ">>> Fitur .clear()\n",
      "{}\n",
      ">>> Fitur .copy()\n",
      "{'nama': 'Aksara', 'nik': '1211011', 'pekerjaan': 'Data Analyst'}\n",
      "{'nama': 'Senja', 'nik': '1211056', 'pekerjaan': 'Data Analyst'}\n",
      ">>> Fitur .keys()\n",
      "['nama', 'nik', 'pekerjaan']\n",
      ">>> Fitur .values()\n",
      "['Aksara', '1211011', 'Data Analyst']\n",
      ">>> Fitur .update()\n",
      "{'nama': 'Aksara', 'nik': '1211011', 'pekerjaan': 'Data Analyst', 'skillset': ['Python', 'R']}\n"
     ]
    }
   ],
   "source": [
    "# Fitur .clear()\n",
    "print(\">>> Fitur .clear()\")\n",
    "info_karyawan = {'nama' : 'Aksara',\n",
    "                 'nik' : '1211011',\n",
    "                 'pekerjaan' : 'Data Analyst'}\n",
    "info_karyawan.clear()\n",
    "print(info_karyawan)\n",
    "# Fitur .copy()\n",
    "print(\">>> Fitur .copy()\")\n",
    "info_karyawan1 = {'nama' : 'Aksara',\n",
    "                  'nik' : '1211011',\n",
    "                  'pekerjaan' : 'Data Analyst'}\n",
    "info_karyawan2 = info_karyawan1.copy()\n",
    "info_karyawan2['nama'] = 'Senja'\n",
    "info_karyawan2['nik'] = '1211056'\n",
    "print(info_karyawan1)\n",
    "print(info_karyawan2)\n",
    "# Fitur .keys()\n",
    "print(\">>> Fitur .keys()\")\n",
    "info_karyawan = {'nama' : 'Aksara',\n",
    "                 'nik' : '1211011',\n",
    "                 'pekerjaan' : 'Data Analyst'}\n",
    "kunci_akses = list(info_karyawan.keys())\n",
    "print(kunci_akses)\n",
    "# Fitur .values()\n",
    "print(\">>> Fitur .values()\")\n",
    "value_dict = list(info_karyawan.values())\n",
    "print(value_dict)\n",
    "# Fitur .update()\n",
    "print(\">>> Fitur .update()\")\n",
    "info_karyawan.update({'skillset':['Python', 'R']})\n",
    "print(info_karyawan)"
   ]
  },
  {
   "cell_type": "code",
   "execution_count": 7,
   "metadata": {},
   "outputs": [
    {
     "name": "stdout",
     "output_type": "stream",
     "text": [
      ">>> Fitur .clear()\n",
      "{}\n",
      ">>> Fitur .copy()\n",
      "{'nama': 'Aksara', 'nik': '1211011', 'pekerjaan': 'Data Analyst'}\n",
      "{'nama': 'Senja', 'nik': '1211056', 'pekerjaan': 'Data Analyst'}\n",
      ">>> Fitur .keys()\n",
      "['nama', 'nik', 'pekerjaan']\n",
      ">>> Fitur .values()\n",
      "['Aksara', '1211011', 'Data Analyst']\n",
      ">>> Fitur .update()\n",
      "{'nama': 'Aksara', 'nik': '1211011', 'pekerjaan': 'Data Analyst', 'skillset': ['Python', 'R']}\n"
     ]
    }
   ],
   "source": [
    "#Fitur .clear()\n",
    "print(\">>> Fitur .clear()\")\n",
    "info_karyawan = {'nama' : 'Aksara',\n",
    "'nik' : '1211011',\n",
    "'pekerjaan' : 'Data Analyst'}\n",
    "info_karyawan.clear()\n",
    "print(info_karyawan)\n",
    "# Fitur .copy()\n",
    "print(\">>> Fitur .copy()\")\n",
    "info_karyawan1 = {'nama' : 'Aksara',\n",
    "'nik' : '1211011',\n",
    "'pekerjaan' : 'Data Analyst'}\n",
    "info_karyawan2 = info_karyawan1.copy()\n",
    "info_karyawan2['nama'] = 'Senja'\n",
    "info_karyawan2['nik'] = '1211056'\n",
    "print(info_karyawan1)\n",
    "print(info_karyawan2)\n",
    "# Fitur .keys()\n",
    "print(\">>> Fitur .keys()\")\n",
    "info_karyawan = {'nama' : 'Aksara',\n",
    "'nik' : '1211011',\n",
    "'pekerjaan' : 'Data Analyst'}\n",
    "kunci_akses = list(info_karyawan.keys())\n",
    "print(kunci_akses)\n",
    "# Fitur .values()\n",
    "print(\">>> Fitur .values()\")\n",
    "value_dict = list(info_karyawan.values())\n",
    "print(value_dict)\n",
    "# Fitur .update()\n",
    "print(\">>> Fitur .update()\")\n",
    "info_karyawan.update({'skillset':['Python', 'R']})\n",
    "print(info_karyawan)"
   ]
  },
  {
   "cell_type": "code",
   "execution_count": 9,
   "metadata": {},
   "outputs": [
    {
     "name": "stdout",
     "output_type": "stream",
     "text": [
      ">>> Fitur .clear()\n",
      "{}\n",
      ">>> Fitur .copy()\n",
      "{'nama': 'Aksara', 'nik': '1211011', 'pekerjaan': 'Data Analyst'}\n",
      "{'nama': 'Senja', 'nik': '1211056', 'pekerjaan': 'Data Analyst'}\n",
      ">>> Fitur .keys()\n",
      "['nama', 'nik', 'pekerjaan']\n",
      ">>> Fitur .values()\n",
      "['Aksara', '1211011', 'Data Analyst']\n",
      ">>> Fitur .update()\n",
      "{'nama': 'Aksara', 'nik': '1211011', 'pekerjaan': 'Data Analyst', 'skillset': ['Python', 'R']}\n"
     ]
    }
   ],
   "source": [
    "#Fitur .clear()\n",
    "print(\">>> Fitur .clear()\")\n",
    "info_karyawan = {'nama' : 'Aksara',\n",
    "'nik' : '1211011',\n",
    "'pekerjaan' : 'Data Analyst'}\n",
    "info_karyawan.clear()\n",
    "print(info_karyawan)\n",
    "# Fitur .copy()\n",
    "print(\">>> Fitur .copy()\")\n",
    "info_karyawan1 = {'nama' : 'Aksara',\n",
    "'nik' : '1211011',\n",
    "'pekerjaan' : 'Data Analyst'}\n",
    "info_karyawan2 = info_karyawan1.copy()\n",
    "info_karyawan2['nama'] = 'Senja'\n",
    "info_karyawan2['nik'] = '1211056'\n",
    "print(info_karyawan1)\n",
    "print(info_karyawan2)\n",
    "# Fitur .keys()\n",
    "print(\">>> Fitur .keys()\")\n",
    "info_karyawan = {'nama' : 'Aksara',\n",
    "'nik' : '1211011',\n",
    "'pekerjaan' : 'Data Analyst'}\n",
    "kunci_akses = list(info_karyawan.keys())\n",
    "print(kunci_akses)\n",
    "# Fitur .values()\n",
    "print(\">>> Fitur .values()\")\n",
    "value_dict = list(info_karyawan.values())\n",
    "print(value_dict)\n",
    "# Fitur .update()\n",
    "print(\">>> Fitur .update()\")\n",
    "info_karyawan.update({'skillset':['Python', 'R']})\n",
    "print(info_karyawan)"
   ]
  },
  {
   "cell_type": "code",
   "execution_count": 10,
   "metadata": {},
   "outputs": [
    {
     "name": "stdout",
     "output_type": "stream",
     "text": [
      ">>> Fitur .clear()\n",
      "{}\n",
      ">>> Fitur .copy()\n",
      "{'nama': 'Aksara', 'nik': '1211011', 'pekerjaan': 'Data Analyst'}\n",
      "{'nama': 'Senja', 'nik': '1211056', 'pekerjaan': 'Data Analyst'}\n",
      ">>> Fitur .keys()\n",
      "['nama', 'nik', 'pekerjaan']\n",
      ">>> Fitur .values()\n",
      "['Aksara', '1211011', 'Data Analyst']\n",
      ">>> Fitur .update()\n",
      "{'nama': 'Aksara', 'nik': '1211011', 'pekerjaan': 'Data Analyst', 'skillset': ['Python', 'R']}\n"
     ]
    }
   ],
   "source": [
    "#Fitur .clear()\n",
    "print(\">>> Fitur .clear()\")\n",
    "info_karyawan = {'nama' : 'Aksara',\n",
    "'nik' : '1211011',\n",
    "'pekerjaan' : 'Data Analyst'}\n",
    "info_karyawan.clear()\n",
    "print(info_karyawan)\n",
    "# Fitur .copy()\n",
    "print(\">>> Fitur .copy()\")\n",
    "info_karyawan1 = {'nama' : 'Aksara',\n",
    "'nik' : '1211011',\n",
    "'pekerjaan' : 'Data Analyst'}\n",
    "info_karyawan2 = info_karyawan1.copy()\n",
    "info_karyawan2['nama'] = 'Senja'\n",
    "info_karyawan2['nik'] = '1211056'\n",
    "print(info_karyawan1)\n",
    "print(info_karyawan2)\n",
    "# Fitur .keys()\n",
    "print(\">>> Fitur .keys()\")\n",
    "info_karyawan = {'nama' : 'Aksara',\n",
    "'nik' : '1211011',\n",
    "'pekerjaan' : 'Data Analyst'}\n",
    "kunci_akses = list(info_karyawan.keys())\n",
    "print(kunci_akses)\n",
    "# Fitur .values()\n",
    "print(\">>> Fitur .values()\")\n",
    "value_dict = list(info_karyawan.values())\n",
    "print(value_dict)\n",
    "# Fitur .update()\n",
    "print(\">>> Fitur .update()\")\n",
    "info_karyawan.update({'skillset':['Python', 'R']})\n",
    "print(info_karyawan)"
   ]
  },
  {
   "cell_type": "code",
   "execution_count": 12,
   "metadata": {},
   "outputs": [
    {
     "name": "stdout",
     "output_type": "stream",
     "text": [
      ">>> Fitur .clear()\n",
      "{}\n",
      ">>> Fitur .copy()\n",
      "{'nama': 'Aksara', 'nik': '1211011', 'pekerjaan': 'Data Analyst'}\n",
      "{'nama': 'Senja', 'nik': '1211056', 'pekerjaan': 'Data Analyst'}\n",
      ">>> Fitur .keys()\n",
      "['nama', 'nik', 'pekerjaan']\n",
      ">>> Fitur .values()\n",
      "['Aksara', '1211011', 'Data Analyst']\n",
      ">>> Fitur .update()\n",
      "{'nama': 'Aksara', 'nik': '1211011', 'pekerjaan': 'Data Analyst', 'skillset': ['Python', 'R']}\n"
     ]
    }
   ],
   "source": [
    "#Fitur.clear()\n",
    "print(\">>> Fitur .clear()\")\n",
    "info_karyawan = {'nama' : 'Aksara',\n",
    "'nik' : '1211011',\n",
    "'pekerjaan' : 'Data Analyst'}\n",
    "info_karyawan.clear()\n",
    "print(info_karyawan)\n",
    "\n",
    "# Fitur .copy()\n",
    "print(\">>> Fitur .copy()\")\n",
    "info_karyawan1 = {'nama' : 'Aksara',\n",
    "'nik' : '1211011',\n",
    "'pekerjaan' : 'Data Analyst'}\n",
    "info_karyawan2 = info_karyawan1.copy()\n",
    "info_karyawan2['nama'] = 'Senja'\n",
    "info_karyawan2['nik'] = '1211056'\n",
    "print(info_karyawan1)\n",
    "print(info_karyawan2)\n",
    "\n",
    "# Fitur .keys()\n",
    "print(\">>> Fitur .keys()\")\n",
    "info_karyawan = {'nama' : 'Aksara',\n",
    "'nik' : '1211011',\n",
    "'pekerjaan' : 'Data Analyst'}\n",
    "kunci_akses = list(info_karyawan.keys())\n",
    "print(kunci_akses)\n",
    "\n",
    "# Fitur .values()\n",
    "print(\">>> Fitur .values()\")\n",
    "value_dict = list(info_karyawan.values())\n",
    "print(value_dict)\n",
    "\n",
    "# Fitur .update()\n",
    "print(\">>> Fitur .update()\")\n",
    "info_karyawan.update({'skillset':['Python', 'R']})\n",
    "print(info_karyawan)"
   ]
  },
  {
   "cell_type": "code",
   "execution_count": null,
   "metadata": {},
   "outputs": [],
   "source": []
  }
 ],
 "metadata": {
  "kernelspec": {
   "display_name": "Python 3",
   "language": "python",
   "name": "python3"
  },
  "language_info": {
   "codemirror_mode": {
    "name": "ipython",
    "version": 3
   },
   "file_extension": ".py",
   "mimetype": "text/x-python",
   "name": "python",
   "nbconvert_exporter": "python",
   "pygments_lexer": "ipython3",
   "version": "3.7.6"
  }
 },
 "nbformat": 4,
 "nbformat_minor": 4
}
